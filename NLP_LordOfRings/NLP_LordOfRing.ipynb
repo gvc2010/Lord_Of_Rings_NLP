{
  "nbformat": 4,
  "nbformat_minor": 0,
  "metadata": {
    "colab": {
      "provenance": [],
      "authorship_tag": "ABX9TyOUmKziTN1+7X2E9ynBZgVI",
      "include_colab_link": true
    },
    "kernelspec": {
      "name": "python3",
      "display_name": "Python 3"
    },
    "language_info": {
      "name": "python"
    }
  },
  "cells": [
    {
      "cell_type": "markdown",
      "metadata": {
        "id": "view-in-github",
        "colab_type": "text"
      },
      "source": [
        "<a href=\"https://colab.research.google.com/github/gvc2010/NLP/blob/main/NLP_LordOfRing.ipynb\" target=\"_parent\"><img src=\"https://colab.research.google.com/assets/colab-badge.svg\" alt=\"Open In Colab\"/></a>"
      ]
    },
    {
      "cell_type": "markdown",
      "source": [
        "Considere o corpus a seguir:"
      ],
      "metadata": {
        "id": "j-hZUD6PRE7F"
      }
    },
    {
      "cell_type": "code",
      "execution_count": null,
      "metadata": {
        "id": "-Qmd4tP3Q0qR"
      },
      "outputs": [],
      "source": [
        "# A seguir um corpus composto por resumos dos primeiros 12 capítulos do livro \"Senhor dos Anéis\"\n",
        "# Traduzidos por Luciano Soares e Reinaldo Imrahil - disponível em: https://www.valinor.com.br/82\n",
        "corpus = [\n",
        "          \"Capítulo 1: Uma festa muito esperada\\nSessenta anos passaram desde que Bilbo Bolseiro, o herói de O Hobbit, tinha voltado de sua jornada. Ele é conhecido por muitos, tanto pela sua riqueza legendária como pelo fato de que a idade não parece afetá-lo. Ele anuncia uma grande celebração em honra do 111o aniversário dele e o 33o aniversário do seu sobrinho Frodo, que ele tinha adotado como herdeiro alguns anos atrás e trouxera para viver no Bolsão. A festa estava esplêndida, e um grande número de hobbits foi convidado. Mas Bilbo sentia-se estranho ultimamente, e decidiu que precisava de umas férias e deixaria o Condado; assim, depois de fazer um discurso depois do jantar, na frente dos 144 amigos mais íntimos dele e de Frodo, e também de seus parentes, ele coloca o anel mágico e desaparece, causando grande surpresa. Ele fala mais uma vez com Gandalf antes de partir, e quase muda a sua intenção original de deixar o anel com Frodo; mas o mago o convence a manter a idéia, e Bilbo parte, muito aliviado e mais feliz do que nunca. Gandalf adverte Frodo para não usar o anel. No dia seguinte Frodo está ocupado, pois Bilbo tinha deixado presentes de despedida para muitos hobbits, e agora uma multidão de pessoas se encontra no Bolsão, muitos deles cavando ao redor e procurando os tesouros imaginários de Bilbo. Gandalf parte, e não volta por muito tempo.\",\n",
        "          \"Capítulo 2: A Sombra do Passado\\nGandalf visita Frodo só algumas vezes pelos anos que seguem. Frodo se acostuma a ser o mestre do Bolsão, e faz amizade com alguns dos hobbits mais jovem [por exemplo com Peregrin Tûk e Merry Brandebuque] enquanto a maioria o considera esquisito, como Bilbo. Rumores de eventos estranhos fora do Condado surgem, como o da ascensão do Poder Escuro na Terra de Mordor, embora a maioria dos hobbits não acreditasse nisso. No qüinquagésimo ano da vida de Frodo, Gandalf o visita novamente e eles têm uma conversa longa sobre o anel que Frodo tinha herdado de Bilbo. Gandalf explica a Frodo a natureza e a história do anel, que é de fato o maior dos Anéis de Poder e foi feito há muito tempo por Sauron, o Senhor do Escuro de Mordor. Sauron o está procurando agora avidamente. Achando o anel o seu poder cresceria imensamente. O anel deveria ser destruído para que Sauron perdesse seu poder, mas só poderia ser destruído em Orodruin, a Montanha da Perdição em Mordor. Parece que Sauron já tinha ouvido falar de Bilbo e do Condado através de Gollum; assim, o Condado provavelmente não é mais um lugar seguro para Frodo. Ele decide partir, acompanhado por Sam Gamgi, o seu jovem jardineiro, que [ao contrário da maioria dos hobbits] acredita nas antigas histórias e adoraria ver os Elfos\",\n",
        "          \"Capítulo 3: Três não é demais\\nFrodo vende o Bolsão aos Sacola-Bolseiros e compra uma casa na Terra dos Buques, a leste do Condado, onde ele tinha passado sua infância. No seu qüinquagésimo aniversário, ele deixa o Bolsão e parte com seu amigo Pippin [Peregrin Tûk] e Sam Gamgi; Gandalf o deixou por algum tempo para procurar notícias do que acontecia na Terra-média, e ainda não voltou, o que preocupa muito Frodo. No dia seguinte, os três hobbits notam que estão sendo seguidos pelos misteriosos Cavaleiros Negros. Não sabem exatamente quem eles são, e Frodo, cuidadoso, decide não deixar que os Cavaleiros os vejam. Eles conhecem, durante a noite, um grupo vagante de Altos-elfos conduzido por Gildor Inglorion; Frodo fala por muito tempo com Gildor, e o elfo o aconselha a tentar alcançar Valfenda apesar da ausência de Gandalf, e conta-lhe que os Cavaleiros Negros são os perigosos Servos do Inimigo.\",\n",
        "          \"Capítulo 4: Um atalho para cogumelos\\nNo dia seguinte, Frodo decide pegar um atalho para o rio Brandevin, onde Merry deveria encontrá-los naquele dia; queriam chegar lá mais cedo, e evitar serem vistos novamente pelos Cavaleiros Negros. De fato, eles percebem que um dos Cavaleiros está na estrada e decidem sair dela. Depois de uma passagem longa e desagradável pelos bosques, eles alcançam a propriedade de Fazendeiro Magote, que é conhecido por soltar seus cachorros em qualquer invasor que venha a colher os seus cogumelos [como o próprio Frodo tinha experimentado na sua mocidade]. Contudo, ele é bastante amigável, especialmente por conhecer bastante Pippin; ele conta a Frodo e seus amigos que pouco tempo antes um cavaleiro negro estranho e amedrontador perguntara-lhe por um Bolseiro . Para ajudar Frodo a alcançar a balsa do Brandevin da maneira mais segura e rápida possível, Magote leva os três hobbits com sua carroça , e eles acham Merry esperando-os ansiosamente.\",\n",
        "          \"Capítulo 5: Conspiração Desmascarada\\nConforme eles cruzam o Rio, notam uma figura negra parada, e cada vez mais próxima. Eles vão para a casa nova de Frodo em Cricôncavo, e falam sobre as suas aventuras na viagem. Frodo pretende falar finalmente para os amigos que vai partir o mais cedo possível quando, para o seu assombro, eles dizem que já sabem sobre o Anel, e sobre o propósito de sua viagem, e que pretendem acompanhá-lo e ajudá-lo. Depois do choque inicial, Frodo aceita a ajuda deles alegremente, e eles decidem partir no dia seguinte, bem cedo, pela Floresta Velha, um lugar conhecido como esquisito e perigoso, para evitar as estradas que provavelmente serão vigiadas pelos Cavaleiros.\",\n",
        "          \"Capítulo 6: A Floresta Velha\\nOs hobbits entram na Floresta Velha e logo começam a sentir sua estranheza, como se as árvores estivessem vigiando-os e os odiassem. Eles chegam à Clareira onde os hobbits queimaram uma grande quantidade de árvores há muito tempo atrás. De lá, eles seguem um caminho que os conduz a uma colina que sobe fora da Floresta, e de lá, como eles eventualmente notam, para o Rio Withywindle, a parte central e mais estranha da floresta. Eles querem evitar isso e deixar o caminho, mas acham o terreno sempre mais difícil na direção em que gostariam de ir. Eles caem em um barranco que é muito íngreme para ser escalado novamente e, seguindo-o, chegam ao Withywindle e acham um caminho que corre ao longo dele. Este caminho os traz a um velho salgueiro, perto do qual começam a sentir-se sonolentos de repente. Frodo, Merry e Pippin dormem, e a árvore lança Frodo na água e captura Merry e Pippin debaixo de suas raízes. Sam e Frodo não podem salvá-los, e correm ao longo do caminho, enquanto pedem por ajuda, desesperados. Eles encontram Tom Bombadil, um homem estranho que canta canções absurdas. Tom canta a melodia certa, e o salgueiro liberta Merry e Pippin; então Tom convida os hobits para irem à casa dele, onde vive com Fruta DOuro.\",\n",
        "          \"Capítulo 7: Na Casa de Tom Bombadil\\nEles comem um jantar magnífico e então vão dormir, e cada um deles tem sonhos diferentes e estranhos. No dia os hobbits falam com Tom Bombadil durante o dia inteiro. Tom lhes fala muito sobre a Floresta, os tipos de árvores e animais, o Velho Homem-Salgueiro, e a história antiga da Terra-média, embora de maneira enigmática. Para a surpresa deles, descobrem que o Anel não tem nenhum poder sobre Bombadil. Ele lhes dá conselhos no dia seguinte, e lhes ensina uma rima parra chamá-lo se eles precisarem da ajuda dele.\",\n",
        "          \"Capítulo 8: Névoa nas Colinas dos Túmulos\\nNo dia seguinte, os hobbits deixam a casa de Tom, pretendendo cruzar os Túmulos. Eles fazem um progresso bom pela manhã, e ao redor de meio-dia param para descansar. Estranhamente há um grande pedra fria que se levanta no topo plano de uma colina. Eles adormecem e são despertados por um pôr-do-sol cercado pela névoa. Eles imediatamente se encaminham na direção que eles acreditam ser a mais direta para a Estrada; algum tempo depois Frodo, que estava na frente, passa entre duas pedras paradas e nota que os outros se foram. Ele começa a gritar por ajuda, e é capturado por uma Criatura Tumular. Ele desperta novamente dentro de um túmulo, nota que os outros estão inconscientes perto dele e que uma mão está rastejando na direção deles. Frodo canta a rima que Tom Bombadil tinha lhes ensinado um dia antes, e realmente Tom vem muito rápido, e a luz do dia destrói a Criatura Tumular. Tom desperta os outros três hobits, e dá a cada um deles uma espada, tirada dos tesouros que estavam dentro do túmulo. Ele também traz os pôneis deles que fugiram à noite, e os acompanha durante algum tempo, até as fronteiras das terras dele. Os hobbits partem, e chegam à aldeia de Bri pela noite.\",\n",
        "          \"Capítulo 9: No Pônei Saltitante\\nO hobbits entram no Pônei Saltitante, uma hospedaria grande em Bri. Um grupo diversificado de hóspedes já esta reunido lá: hobbits locais e homens, anões em viagem, homens estranhos do Sul, e um Guardião misterioso conhecido como Passolargo. Depois da ceia, Frodo, Sam e Pippin decidem unir-se aos hóspedes; Pippin chama a atenção contando uma história sobre o Prefeito do Condado e, empolgado, começa a contar sobre a festa de despedida de Bilbo. Frodo não quer mencionar o desaparecimento de Bilbo, e para interromper Pippin salta sobre uma mesa e começa a cantar e dançar. Ele salta e cai da mesa, e enquanto cai o Anel desliza para o dedo dele, e ele desaparece. Isto causa muita ansiedade, e apesar das explicações posteriores a maioria dos hóspedes deixa o aposento. Passolargo parece saber o real nome de Frodo, e a verdadeira causa do seu desaparecimento, e lhe pede que tenham uma conversa depois. Carrapicho, o estalajadeiro, também se lembra de algo e pede para ter uma conversa particular com Frodo.\",\n",
        "          \"Capítulo 10: Passolargo\\nPassolargo vai falar com Frodo, Sam e Pippin. Ele se oferece para ser o guia deles, e parece já saber muito de Frodo; porém, por causa da sua aparência, os hobbits não confiam nele. Então Carrapicho chega e explica que Gandalf tinha deixado uma carta para um certo Frodo Bolseiro, que Carrapicho esquecera de enviar ao Condado há vários meses atrás. Frodo e seus companheiros batem com a descrição que Gandalf dera a Carrapicho, e este dá a carta a Frodo. Entre outras coisas, essa carta contém um conselho de Gandalf para aceitar a ajuda de um amigo seu, um homem chamado Passolargo [com o verdadeiro nome Aragorn], se eles chegassem a conhecê-lo. Assim, Frodo decide aceitar a ajuda dele como um guia para Valfenda. Merry, que saiu para pegar um ar fresco antes, agora volta e conta que viu os Cavaleiros Negros, e parece que eles têm espiões em Bri. Eles decidem não ir para os quartos designados a eles, e dormem no quarto de hóspedes, depois de trancarem as janelas e a porta.\",\n",
        "          \"Capítulo 11: Uma Faca no Escuro\\nNaquela mesma noite, os Cavaleiros Negros arrombam a casa de Frodo em Cricôncavo, descobrem que Frodo não esta lá, e cavalgam para Bri com grande pressa. Eles arrombam a hospedaria, ou mais especificamente o quarto onde os hóspedes hobbits normalmente dormem. Os hobbits não são descobertos, mas todos os cavalos e pôneis da hospedaria fugiram com medo. No dia seguinte eles compram um pônei e mantimentos [muito mais do que eles poderiam carregar em suas costas]; eles vão em direção a Valfenda, e Passolargo os conduz pela floresta para uma colina chamada Topo do Vento, que oferece uma visão de cima de uma área circunvizinha bem grande. Parece que Gandalf tinha estado lá três dias antes deles. Naquela noite eles são atacados por cinco dos Cavaleiros em uma depressão debaixo do Topo do Vento; Frodo não consegue resistir ao desejo de colocar o Anel, e imediatamente depois de fazer isso percebe que ele pode ver os Cavaleiros muito claramente apesar da escuridão. O capitão dos Cavaleiros ataca Frodo, que o golpeia nos pés mas acaba ferido e perde a consciência .\",\n",
        "          \"Capítulo 12: Fuga para o Vau\\nPassolargo faz o melhor possível para curar Frodo, mas este só poderia receber o tratamento em Valfenda, que eles deveriam alcançar o mais cedo possível. Eles cruzam o Rio Fontegris e, evitando a estrada, caminham pelos ermos e acabam alcançando a região dos trolls onde Bilbo tivera a sua primeira aventura tantos anos atrás. Eles têm que cruzar uma linha de colinas para se pôr mais perto novamente da Estrada, já que a única esperança deles de alcançar Valfenda a tempo é seguir a Estrada que cruza o rio Ruidoságua, ou Bruinen, no vau de Bruinen. Na Estrada eles conhecem Glorfindel, um Senhor Élfico que foi enviado de Valfenda para achá-los e ajudá-los. Eles se aproximam do Vau de Bruinen e são emboscados pelos Cavaleiros Negros. Frodo consegue escapar e cruzar o rio no cavalo de Glorfindel. Então uma grande inundação vem rio abaixo e leva os Cavaleiros.\"\n",
        "]"
      ]
    },
    {
      "cell_type": "markdown",
      "source": [
        "1) Utilize Expressões Regulares para remover de cada um dos textos do corpus o cabeçalho dos capítulos (e.g., \"Capítulo 1:\", \"Capítulo 2:\", \"Capítulo 3:\")"
      ],
      "metadata": {
        "id": "Bet0gQf2RWRr"
      }
    },
    {
      "cell_type": "code",
      "source": [
        "import re\n",
        "\n",
        "corpus_sem_cabecalho = []\n",
        "\n",
        "for texto in corpus:\n",
        "    texto_sem_cabecalho = re.sub(r\"Capítulo \\d+: \", \"\", texto)\n",
        "    corpus_sem_cabecalho.append(texto_sem_cabecalho)\n",
        "\n",
        "# Exibindo o corpus sem os cabeçalhos dos capítulos\n",
        "for texto_sem_cabecalho in corpus_sem_cabecalho:\n",
        "    print(texto_sem_cabecalho)\n",
        "    print(\"-\" * 50)"
      ],
      "metadata": {
        "id": "heYVXT9-RXcd"
      },
      "execution_count": null,
      "outputs": []
    },
    {
      "cell_type": "markdown",
      "source": [
        "2) Compute a quantidade de caracteres, quantidade de palavras, quantidade de palavras únicas e quantidade de sentenças de cada capítulo e apresente em um DataFrame da biblioteca pandas"
      ],
      "metadata": {
        "id": "9E0q2UjFRgHx"
      }
    },
    {
      "cell_type": "code",
      "source": [
        "import pandas as pd\n",
        "import re\n",
        "\n",
        "# Função para contar palavras únicas em um texto\n",
        "def contar_palavras_unicas(texto):\n",
        "    palavras = re.findall(r'\\b\\w+\\b', texto.lower())\n",
        "    return len(set(palavras))\n",
        "\n",
        "# Função para contar sentenças em um texto\n",
        "def contar_sentencas(texto):\n",
        "    return len(re.findall(r'[.!?]+', texto))\n",
        "\n",
        "# Dados a serem coletados\n",
        "dados = []\n",
        "\n",
        "for i, texto in enumerate(corpus):\n",
        "    capitulo = i + 1\n",
        "    caracteres = len(texto)\n",
        "    palavras = len(re.findall(r'\\b\\w+\\b', texto))\n",
        "    palavras_unicas = contar_palavras_unicas(texto)\n",
        "    sentencas = contar_sentencas(texto)\n",
        "\n",
        "    dados.append([capitulo, caracteres, palavras, palavras_unicas, sentencas])\n",
        "\n",
        "# Criando o DataFrame\n",
        "df = pd.DataFrame(dados, columns=['Capítulo', 'Caracteres', 'Palavras', 'Palavras Únicas', 'Sentenças'])\n",
        "\n",
        "# Exibindo o DataFrame\n",
        "print(df)"
      ],
      "metadata": {
        "id": "si_ZFvd6Rmeg"
      },
      "execution_count": null,
      "outputs": []
    },
    {
      "cell_type": "markdown",
      "source": [
        "3) Apresente um gráfico de barras comparando a quantidade de palavras únicas de cada capítulo"
      ],
      "metadata": {
        "id": "nKPaYJ_oR0Xe"
      }
    },
    {
      "cell_type": "code",
      "source": [
        "import pandas as pd\n",
        "import re\n",
        "import matplotlib.pyplot as plt\n",
        "\n",
        "# Função para contar palavras únicas em um texto\n",
        "def contar_palavras_unicas(texto):\n",
        "    palavras = re.findall(r'\\b\\w+\\b', texto.lower())\n",
        "    return len(set(palavras))\n",
        "\n",
        "# Dados a serem coletados\n",
        "dados = []\n",
        "\n",
        "for i, texto in enumerate(corpus):\n",
        "    capitulo = i + 1\n",
        "    palavras_unicas = contar_palavras_unicas(texto)\n",
        "    dados.append((capitulo, palavras_unicas))\n",
        "\n",
        "# Criando o DataFrame\n",
        "df = pd.DataFrame(dados, columns=['Capítulo', 'Palavras Únicas'])\n",
        "\n",
        "# Criando o gráfico de barras\n",
        "plt.figure(figsize=(10, 6))\n",
        "plt.bar(df['Capítulo'], df['Palavras Únicas'], color='skyblue')\n",
        "plt.xlabel('Capítulo')\n",
        "plt.ylabel('Quantidade de Palavras Únicas')\n",
        "plt.title('Quantidade de Palavras Únicas por Capítulo')\n",
        "plt.xticks(df['Capítulo'])\n",
        "plt.grid(axis='y', linestyle='--', alpha=0.7)\n",
        "plt.show()"
      ],
      "metadata": {
        "id": "sbdK7F7YR4a_"
      },
      "execution_count": null,
      "outputs": []
    },
    {
      "cell_type": "markdown",
      "source": [
        "4) Imagine que durante o processo de sumarização/tradução dos textos, os dois revisores participantes referenciaram a palavra \"hobbits\" de maneira errada em algumas partes do texto, colocando a grafia \"hobits\" no lugar. Faça um programa que utilizando o algoritmo de distância de Levenshtein, encontre e imprima em quais capítulos são encontrados os erros de grafia."
      ],
      "metadata": {
        "id": "lbti_SaRR-Va"
      }
    },
    {
      "cell_type": "code",
      "source": [
        "import numpy as np\n",
        "\n",
        "# Função para calcular a distância de Levenshtein entre duas palavras\n",
        "def levenshtein_distance(s1, s2):\n",
        "    if len(s1) < len(s2):\n",
        "        return levenshtein_distance(s2, s1)\n",
        "\n",
        "    if len(s2) == 0:\n",
        "        return len(s1)\n",
        "\n",
        "    previous_row = range(len(s2) + 1)\n",
        "\n",
        "    for i, c1 in enumerate(s1):\n",
        "        current_row = [i + 1]\n",
        "\n",
        "        for j, c2 in enumerate(s2):\n",
        "            insertions = previous_row[j + 1] + 1\n",
        "            deletions = current_row[j] + 1\n",
        "            substitutions = previous_row[j] + (c1 != c2)\n",
        "            current_row.append(min(insertions, deletions, substitutions))\n",
        "\n",
        "        previous_row = current_row\n",
        "\n",
        "    return previous_row[-1]\n",
        "\n",
        "# Verificando os capítulos com erros de grafia\n",
        "for i, texto in enumerate(corpus):\n",
        "    if 'hobits' in texto:\n",
        "        distancia = levenshtein_distance('hobbits', 'hobits')\n",
        "        if distancia <= 1:\n",
        "            print(f\"Erro de grafia encontrado no Capítulo {i+1}\")"
      ],
      "metadata": {
        "id": "nd-z0tvXSAUY"
      },
      "execution_count": null,
      "outputs": []
    },
    {
      "cell_type": "markdown",
      "source": [
        "5) Remova as stop-words do corpus e mostre os vetores resultantes (com suas palavras correspondentes) do processo de BoW.\n",
        "DICA: Você pode utilizar um atributo da própria função CountVectorizer"
      ],
      "metadata": {
        "id": "8YNXMvxpSYA9"
      }
    },
    {
      "cell_type": "code",
      "source": [
        "from sklearn.feature_extraction.text import CountVectorizer\n",
        "\n",
        "# Definindo as stop-words\n",
        "stop_words = ['e', 'o', 'a', 'os', 'as', 'um', 'uma', 'uns', 'umas', 'de', 'da', 'do', 'das', 'dos', 'em', 'no', 'na', 'nos', 'nas', 'para', 'por', 'com', 'se', 'que']\n",
        "\n",
        "# Inicializando o CountVectorizer com as stop-words\n",
        "vectorizer = CountVectorizer(stop_words=stop_words)\n",
        "\n",
        "# Ajustando o vetorizador ao corpus\n",
        "X = vectorizer.fit_transform(corpus)\n",
        "\n",
        "# Obtendo as palavras correspondentes aos vetores\n",
        "palavras = vectorizer.get_feature_names_out()\n",
        "\n",
        "# Mostrando os vetores resultantes do BoW (Bag of Words)\n",
        "for i, vetor in enumerate(X.toarray()):\n",
        "    print(f\"Capítulo {i+1}:\")\n",
        "    for palavra_index, ocorrencias in enumerate(vetor):\n",
        "        if ocorrencias > 0:\n",
        "            print(f\"{palavras[palavra_index]}: {ocorrencias}\")\n",
        "    print()\n"
      ],
      "metadata": {
        "id": "fETMJ2EySavU"
      },
      "execution_count": null,
      "outputs": []
    },
    {
      "cell_type": "markdown",
      "source": [
        "6) Faça um algoritmo que leia uma palavra do usuário e em seguida mostre o capítulo mais relevante a pesquisa, juntamente ao correspondente valor de pontuação TF-IDF da palavra buscada no documento."
      ],
      "metadata": {
        "id": "JFnyc3bfSlCp"
      }
    },
    {
      "cell_type": "code",
      "source": [
        "from sklearn.feature_extraction.text import TfidfVectorizer\n",
        "from sklearn.metrics.pairwise import cosine_similarity\n",
        "\n",
        "# Função para encontrar o capítulo mais relevante para uma palavra e mostrar o valor de pontuação TF-IDF correspondente\n",
        "def encontrar_capitulo_relevante(corpus, palavra):\n",
        "    # Criação do vetorizador TF-IDF\n",
        "    vectorizer = TfidfVectorizer(stop_words='portuguese')\n",
        "    X = vectorizer.fit_transform(corpus)\n",
        "\n",
        "    # Transforma a palavra em um vetor TF-IDF\n",
        "    palavra_vetor = vectorizer.transform([palavra])\n",
        "\n",
        "    # Calcula a similaridade de cosseno entre a palavra vetor e os vetores TF-IDF dos capítulos\n",
        "    similaridade = cosine_similarity(palavra_vetor, X)\n",
        "\n",
        "    # Encontra o índice do capítulo mais relevante\n",
        "    capitulo_index = similaridade.argmax()\n",
        "\n",
        "    # Obtém o valor de pontuação TF-IDF da palavra no capítulo mais relevante\n",
        "    tfidf_valor = palavra_vetor.max()\n",
        "\n",
        "    # Retorna o capítulo mais relevante e o valor de pontuação TF-IDF correspondente\n",
        "    return capitulo_index + 1, tfidf_valor\n",
        "\n",
        "# Corpus dos capítulos\n",
        "corpus = [\n",
        "    \"Texto do Capítulo 1...\",\n",
        "    \"Texto do Capítulo 2...\",\n",
        "    \"Texto do Capítulo 3...\",\n",
        "    # Adicione os textos dos capítulos restantes aqui\n",
        "]\n",
        "\n",
        "# Entrada da palavra do usuário\n",
        "palavra_busca = input(\"Digite a palavra a ser buscada nos capítulos: \")\n",
        "\n",
        "# Chamando a função para encontrar o capítulo mais relevante e mostrar o valor de pontuação TF-IDF correspondente\n",
        "capitulo_relevante, tfidf_valor = encontrar_capitulo_relevante(corpus, palavra_busca)\n",
        "print(f\"O capítulo mais relevante para a palavra '{palavra_busca}' é o Capítulo {capitulo_relevante}.\")\n",
        "print(f\"O valor de pontuação TF-IDF da palavra '{palavra_busca}' neste capítulo é: {tfidf_valor}\")\n"
      ],
      "metadata": {
        "id": "LLkkYw3SSnFp"
      },
      "execution_count": null,
      "outputs": []
    }
  ]
}